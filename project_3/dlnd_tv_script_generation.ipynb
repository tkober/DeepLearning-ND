{
 "cells": [
  {
   "cell_type": "markdown",
   "metadata": {
    "deletable": true,
    "editable": true
   },
   "source": [
    "# TV Script Generation\n",
    "In this project, you'll generate your own [Simpsons](https://en.wikipedia.org/wiki/The_Simpsons) TV scripts using RNNs.  You'll be using part of the [Simpsons dataset](https://www.kaggle.com/wcukierski/the-simpsons-by-the-data) of scripts from 27 seasons.  The Neural Network you'll build will generate a new TV script for a scene at [Moe's Tavern](https://simpsonswiki.com/wiki/Moe's_Tavern).\n",
    "## Get the Data\n",
    "The data is already provided for you.  You'll be using a subset of the original dataset.  It consists of only the scenes in Moe's Tavern.  This doesn't include other versions of the tavern, like \"Moe's Cavern\", \"Flaming Moe's\", \"Uncle Moe's Family Feed-Bag\", etc.."
   ]
  },
  {
   "cell_type": "code",
   "execution_count": 1,
   "metadata": {
    "collapsed": false,
    "deletable": true,
    "editable": true
   },
   "outputs": [],
   "source": [
    "\"\"\"\n",
    "DON'T MODIFY ANYTHING IN THIS CELL\n",
    "\"\"\"\n",
    "import helper\n",
    "\n",
    "data_dir = './data/simpsons/moes_tavern_lines.txt'\n",
    "text = helper.load_data(data_dir)\n",
    "# Ignore notice, since we don't use it for analysing the data\n",
    "text = text[81:]"
   ]
  },
  {
   "cell_type": "markdown",
   "metadata": {
    "deletable": true,
    "editable": true
   },
   "source": [
    "## Explore the Data\n",
    "Play around with `view_sentence_range` to view different parts of the data."
   ]
  },
  {
   "cell_type": "code",
   "execution_count": 2,
   "metadata": {
    "collapsed": false,
    "deletable": true,
    "editable": true,
    "scrolled": false
   },
   "outputs": [
    {
     "name": "stdout",
     "output_type": "stream",
     "text": [
      "Dataset Stats\n",
      "Roughly the number of unique words: 11492\n",
      "Number of scenes: 262\n",
      "Average number of sentences in each scene: 15.248091603053435\n",
      "Number of lines: 4257\n",
      "Average number of words in each line: 11.50434578341555\n",
      "\n",
      "The sentences 1000 to 1100:\n",
      "Duffman: (PARTY VOICE) Are you ready to get Duffed?\n",
      "Lenny_Leonard: Hey, it's Duffman! The guy in a costume that creates awareness of Duff!\n",
      "Duffman: Duffman wants to party down with the man who sent in ten thousand Duff labels to bring me here today. I've got a bottomless mug of new \"Duff Extra Cold\" for... (READS CARD) BARNEY GUMBEL!\n",
      "Cheerleaders: (CHEERS AND:) Chug! Chug! Chug! Chug!\n",
      "Barney_Gumble: (STRAINING) I can't! I'm the designated driver!\n",
      "Duffman: (PERFUNCTORY, BRUSQUE) Ehhh... That's swell. Duff wholeheartedly supports the designated driver program... Now, who wants to party?!\n",
      "Moe_Szyslak: Face it, Homer, the car is gone. Barney ain't never comin' back.\n",
      "Barney_Gumble: (SHAKY) All I remember about the last two months is giving a guest lecture at Villanova. (BEAT) Or maybe it was a streetcorner.\n",
      "Homer_Simpson: (QUIET ANGER) So you lost my car, eh? Well, that's just grand. I ought to punch you in the nose, but I have to pick up my kids at school.\n",
      "\n",
      "\n",
      "Moe_Szyslak: (COVERING) Uh, that's a parasol.\n",
      "Homer_Simpson: Well, Moe, this is it. Today's the day I get my new air conditioner.\n",
      "Moe_Szyslak: Congratulations. Who's the little chick?\n",
      "Lisa_Simpson: I'm Lisa!\n",
      "Homer_Simpson: (TO MOE, PROUDLY) She has a gift.\n",
      "Lisa_Simpson: You have thirteen pickled eggs in this jar! (CUTE) And one cockroach!\n",
      "Moe_Szyslak: (DISPLEASED CHUCKLE) Who are you, sweetheart, the health inspector?\n",
      "Man_At_Bar: No, but I am.\n",
      "Moe_Szyslak: Uh... here, have a margarita.\n",
      "\n",
      "\n",
      "Homer_Simpson: But you can't leave! We're scammin' an old lady at my house and I need a place to hide out.\n",
      "Moe_Szyslak: Ah, sorry Homer, I've been planning this vacation for years. I'm finally gonna see Easter Island.\n",
      "Homer_Simpson: Oh, right. With the giant heads.\n",
      "Moe_Szyslak: With the what now?\n",
      "Lenny_Leonard: Hey, you seen Apu lately? He looks terrible.\n",
      "Carl_Carlson: Yeah, rumor has it Marge threw him out.\n",
      "Barney_Gumble: Aw, tough break. She's a beautiful lady.\n",
      "Moe_Szyslak: You got that straight, Barn.\n",
      "Barney_Gumble: (RAISING GLASSES) To Marge!\n",
      "Homer_Simpson: Moe, what do you recommend for severe depression?\n",
      "Moe_Szyslak: Booze, booze and more booze.\n",
      "Lenny_Leonard: Ha! Nothin' like a depressant to chase the blues away.\n",
      "Lenny_Leonard: Yeah, you got that... / Oh yeah. / Uh-huh.\n",
      "Apu_Nahasapeemapetilon: Oof, Manjula and I have not seen each other in twenty years. Two people cannot fall in love sight-unseen.\n",
      "Moe_Szyslak: Hey, hold on there! I'm countin' on that.\n",
      "Apu_Nahasapeemapetilon: Well, just twenty-four hours of freedom left...\n",
      "Homer_Simpson: (CHECKING WATCH, CHIPPER) Actually, it's more like twelve. No, I'm so stupid, seven. It's seven hours. You have seven hours. (SHOWING APU WATCH) See? Seven.\n",
      "Apu_Nahasapeemapetilon: (SAD MOAN, THEN SINGING DIRGE-LIKE) \"WELL, I'M HOT BLOODED / CHECK IT AND SEE / I'VE GOT A FEVER OF A HUNDRED AND THREE...\"\n",
      "Homer_Simpson: C'mon. You shouldn't be spending your last hours of bachelorhood in a dump like this.\n",
      "Homer_Simpson: You should be livin' like there's no tomorrow. And I know just the place.\n",
      "Homer_Simpson: Ahh. Is this the life, or what?\n",
      "Jasper_Beardly: (REACHING FOR A SWITCH) You want me to turn on the bubbles?\n",
      "\n",
      "\n",
      "Moe_Szyslak: Geez, this hot-rod is souped up six ways from Sunday. Never had you figured for a gear-head, Homer.\n",
      "Homer_Simpson: (CASUAL) Oh, yeah. I'm a real expert.\n",
      "Moe_Szyslak: What is that? A six-barrel Hollye carb?\n",
      "Homer_Simpson: You betcha.\n",
      "Moe_Szyslak: Edelbrock intakes...\n",
      "Homer_Simpson: Nothin' but.\n",
      "Moe_Szyslak: Meyerhof lifters...\n",
      "Homer_Simpson: Oh yeah.\n",
      "Moe_Szyslak: I made that last one up.\n",
      "Homer_Simpson: (KEEPING DIGNITY) I see.\n",
      "\n",
      "\n",
      "Moe_Szyslak: Sounds like you're having a rough Christmas, Homer. You know what I blame this on the breakdown of? Society.\n",
      "Homer_Simpson: (DRUNK) Yeah, you're right, Moe. You're always Moe.\n",
      "Barney_Gumble: Homer, look! Your house is on TV!\n",
      "Homer_Simpson: (PISSED) You take that back, Barney!\n",
      "Moe_Szyslak: Nah, he's right, Homer.\n",
      "Homer_Simpson: Stay out of this, old man.\n",
      "Kent_Brockman: Dateline: Kent Brockman. I'm here at the scene of the Christmas burglary, where a creature was stirring last night. And what he was \"stirring\" was \"up trouble.\"\n",
      "Kent_Brockman: Is your husband or lover here, ma'am?\n",
      "Marge_Simpson: No. My husband is... at church.\n",
      "Homer_Simpson: (INTOXICATED SMILE) Aw, that's my girl. I love you, Marjorie.\n",
      "Moe_Szyslak: Yeah, she's quite a gal.\n",
      "Homer_Simpson: (THREATENING) You shut up.\n",
      "Kent_Brockman: So when you realized Christmas was ruined, how did you feel?\n",
      "Marge_Simpson: How do you think I felt?\n",
      "Kent_Brockman: Absolutely devastated. (TURNS TO CAMERA) \"Absolutely devastated.\" The words of a heart-broken mother. For there will be no fire truck for little Bart. No sweater for little Lisa. No Cajun sausage for little Homer...\n",
      "Kent_Brockman: (SNEERING) So while you're home today eating your sweet, sweet holiday turkey, I hope you'll all choke just a little bit.\n",
      "Moe_Szyslak: So this was all a scam. (DISGUSTED) And on Christmas.\n",
      "Barney_Gumble: Yeah. Jesus must be spinning in his grave.\n",
      "\n",
      "\n",
      "Chief_Wiggum: Ah, isn't that illegal?\n",
      "Krusty_the_Clown: (ENTHUSIASTICALLY) Hey, hey!\n",
      "Marge_Simpson: (READING SIGN) Four drink minimum?\n",
      "Homer_Simpson: (PATS STOMACH) I'll cover ya, honey.\n",
      "Moe_Szyslak: Hi. How you folks doin'? I'm Moe. Or as the ladies like to call me, \"Hey you, behind the bushes.\" (TAPPING MIC) Uh, is this thing on?\n",
      "Barney_Gumble: No. Sorry, Moe.\n",
      "Moe_Szyslak: (CLEARS THROAT) And now, without further Apu...\n",
      "Apu_Nahasapeemapetilon: Woo! I have been zinged and I love it.\n",
      "Moe_Szyslak: ...the last angry clown, the man who spews truth from every orifice, ladies and gentlemen... Krusty!\n",
      "Krusty_the_Clown: (COOL INDIFFERENCE) Yeah, yeah, yeah.\n",
      "Krusty_the_Clown: So, I'm watchin' TV today...\n",
      "Homer_Simpson: (CLAPPING) Woo! TV! Yeah!\n",
      "Krusty_the_Clown: All I keep seein' is dead celebrities hawkin' products! They got poor Vincent Price floatin' around on a toilet cake tellin' me about the \"horrors\" of an unfresh bowl...\n",
      "Krusty_the_Clown: And I'll tell ya somethin' else, I do not believe Winston Churchill would eat at Der Wienerschnitzel!\n",
      "Krusty_the_Clown: There's nothing those Madison Avenue grave robbers won't do to get us to buy their crap!\n",
      "Crowd: (VARIOUS) Yeah! / Right On, Krusty! / You Tell 'Em!\n",
      "Homer_Simpson: (WITH CROWD) Impeach Churchill!\n",
      "Krusty_the_Clown: Well, here's one dollar those crooks aren't gonna get their hands on.\n",
      "Krusty_the_Clown: I don't care if it is illegal. I'm makin' a stand here. Who's with me?\n",
      "Lenny_Leonard: I am! I work like a dog for this!\n",
      "Agnes_Skinner: Oh, you're burning it all wrong, Seymour.\n",
      "Seymour_Skinner: It's my allowance, Mother, and I'll burn it the way I want.\n"
     ]
    }
   ],
   "source": [
    "view_sentence_range = (1000, 1100)\n",
    "\n",
    "\"\"\"\n",
    "DON'T MODIFY ANYTHING IN THIS CELL\n",
    "\"\"\"\n",
    "import numpy as np\n",
    "\n",
    "print('Dataset Stats')\n",
    "print('Roughly the number of unique words: {}'.format(len({word: None for word in text.split()})))\n",
    "scenes = text.split('\\n\\n')\n",
    "print('Number of scenes: {}'.format(len(scenes)))\n",
    "sentence_count_scene = [scene.count('\\n') for scene in scenes]\n",
    "print('Average number of sentences in each scene: {}'.format(np.average(sentence_count_scene)))\n",
    "\n",
    "sentences = [sentence for scene in scenes for sentence in scene.split('\\n')]\n",
    "print('Number of lines: {}'.format(len(sentences)))\n",
    "word_count_sentence = [len(sentence.split()) for sentence in sentences]\n",
    "print('Average number of words in each line: {}'.format(np.average(word_count_sentence)))\n",
    "\n",
    "print()\n",
    "print('The sentences {} to {}:'.format(*view_sentence_range))\n",
    "print('\\n'.join(text.split('\\n')[view_sentence_range[0]:view_sentence_range[1]]))"
   ]
  },
  {
   "cell_type": "markdown",
   "metadata": {
    "deletable": true,
    "editable": true
   },
   "source": [
    "## Implement Preprocessing Functions\n",
    "The first thing to do to any dataset is preprocessing.  Implement the following preprocessing functions below:\n",
    "- Lookup Table\n",
    "- Tokenize Punctuation\n",
    "\n",
    "### Lookup Table\n",
    "To create a word embedding, you first need to transform the words to ids.  In this function, create two dictionaries:\n",
    "- Dictionary to go from the words to an id, we'll call `vocab_to_int`\n",
    "- Dictionary to go from the id to word, we'll call `int_to_vocab`\n",
    "\n",
    "Return these dictionaries in the following tuple `(vocab_to_int, int_to_vocab)`"
   ]
  },
  {
   "cell_type": "code",
   "execution_count": 11,
   "metadata": {
    "collapsed": false,
    "deletable": true,
    "editable": true
   },
   "outputs": [
    {
     "name": "stdout",
     "output_type": "stream",
     "text": [
      "Tests Passed\n"
     ]
    }
   ],
   "source": [
    "import numpy as np\n",
    "import problem_unittests as tests\n",
    "from collections import Counter\n",
    "\n",
    "def create_lookup_tables(text):\n",
    "    \"\"\"\n",
    "    Create lookup tables for vocabulary\n",
    "    :param text: The text of tv scripts split into words\n",
    "    :return: A tuple of dicts (vocab_to_int, int_to_vocab)\n",
    "    \"\"\"\n",
    "    vocab = set(text)\n",
    "    vocab_to_int = {c: i for i, c in enumerate(vocab)}\n",
    "    int_to_vocab = dict(enumerate(vocab))\n",
    "\n",
    "    return vocab_to_int, int_to_vocab\n",
    "\n",
    "\n",
    "\"\"\"\n",
    "DON'T MODIFY ANYTHING IN THIS CELL THAT IS BELOW THIS LINE\n",
    "\"\"\"\n",
    "tests.test_create_lookup_tables(create_lookup_tables)"
   ]
  },
  {
   "cell_type": "markdown",
   "metadata": {
    "deletable": true,
    "editable": true
   },
   "source": [
    "### Tokenize Punctuation\n",
    "We'll be splitting the script into a word array using spaces as delimiters.  However, punctuations like periods and exclamation marks make it hard for the neural network to distinguish between the word \"bye\" and \"bye!\".\n",
    "\n",
    "Implement the function `token_lookup` to return a dict that will be used to tokenize symbols like \"!\" into \"||Exclamation_Mark||\".  Create a dictionary for the following symbols where the symbol is the key and value is the token:\n",
    "- Period ( . )\n",
    "- Comma ( , )\n",
    "- Quotation Mark ( \" )\n",
    "- Semicolon ( ; )\n",
    "- Exclamation mark ( ! )\n",
    "- Question mark ( ? )\n",
    "- Left Parentheses ( ( )\n",
    "- Right Parentheses ( ) )\n",
    "- Dash ( -- )\n",
    "- Return ( \\n )\n",
    "\n",
    "This dictionary will be used to token the symbols and add the delimiter (space) around it.  This separates the symbols as it's own word, making it easier for the neural network to predict on the next word. Make sure you don't use a token that could be confused as a word. Instead of using the token \"dash\", try using something like \"||dash||\"."
   ]
  },
  {
   "cell_type": "code",
   "execution_count": 12,
   "metadata": {
    "collapsed": false,
    "deletable": true,
    "editable": true
   },
   "outputs": [
    {
     "name": "stdout",
     "output_type": "stream",
     "text": [
      "Tests Passed\n"
     ]
    }
   ],
   "source": [
    "def token_lookup():\n",
    "    \"\"\"\n",
    "    Generate a dict to turn punctuation into a token.\n",
    "    :return: Tokenize dictionary where the key is the punctuation and the value is the token\n",
    "    \"\"\"\n",
    "    return {\n",
    "        '.': '__PERIOD__',\n",
    "        ',': '__COMMA__',\n",
    "        '\"': '__QUATATION_MARK__',\n",
    "        ';': '__SEMICOLON__',\n",
    "        '!': '__EXCLAMATION_MARK__',\n",
    "        '?': '__QUESTION_MARK__',\n",
    "        '(': '__LEFT_PARENTHESES__',\n",
    "        ')': '__RIGHT_PARENTHESES__',\n",
    "        '--': '__DASH__',\n",
    "        '\\n': '__RETURN__'\n",
    "    }\n",
    "\n",
    "\"\"\"\n",
    "DON'T MODIFY ANYTHING IN THIS CELL THAT IS BELOW THIS LINE\n",
    "\"\"\"\n",
    "tests.test_tokenize(token_lookup)"
   ]
  },
  {
   "cell_type": "markdown",
   "metadata": {
    "deletable": true,
    "editable": true
   },
   "source": [
    "## Preprocess all the data and save it\n",
    "Running the code cell below will preprocess all the data and save it to file."
   ]
  },
  {
   "cell_type": "code",
   "execution_count": 13,
   "metadata": {
    "collapsed": false,
    "deletable": true,
    "editable": true
   },
   "outputs": [],
   "source": [
    "\"\"\"\n",
    "DON'T MODIFY ANYTHING IN THIS CELL\n",
    "\"\"\"\n",
    "# Preprocess Training, Validation, and Testing Data\n",
    "helper.preprocess_and_save_data(data_dir, token_lookup, create_lookup_tables)"
   ]
  },
  {
   "cell_type": "markdown",
   "metadata": {
    "deletable": true,
    "editable": true
   },
   "source": [
    "# Check Point\n",
    "This is your first checkpoint. If you ever decide to come back to this notebook or have to restart the notebook, you can start from here. The preprocessed data has been saved to disk."
   ]
  },
  {
   "cell_type": "code",
   "execution_count": 14,
   "metadata": {
    "collapsed": false,
    "deletable": true,
    "editable": true
   },
   "outputs": [],
   "source": [
    "\"\"\"\n",
    "DON'T MODIFY ANYTHING IN THIS CELL\n",
    "\"\"\"\n",
    "import helper\n",
    "import numpy as np\n",
    "import problem_unittests as tests\n",
    "\n",
    "int_text, vocab_to_int, int_to_vocab, token_dict = helper.load_preprocess()"
   ]
  },
  {
   "cell_type": "markdown",
   "metadata": {
    "deletable": true,
    "editable": true
   },
   "source": [
    "## Build the Neural Network\n",
    "You'll build the components necessary to build a RNN by implementing the following functions below:\n",
    "- get_inputs\n",
    "- get_init_cell\n",
    "- get_embed\n",
    "- build_rnn\n",
    "- build_nn\n",
    "- get_batches\n",
    "\n",
    "### Check the Version of TensorFlow and Access to GPU"
   ]
  },
  {
   "cell_type": "code",
   "execution_count": 15,
   "metadata": {
    "collapsed": false
   },
   "outputs": [
    {
     "name": "stdout",
     "output_type": "stream",
     "text": [
      "TensorFlow Version: 1.0.1\n",
      "Default GPU Device: /gpu:0\n"
     ]
    }
   ],
   "source": [
    "\"\"\"\n",
    "DON'T MODIFY ANYTHING IN THIS CELL\n",
    "\"\"\"\n",
    "from distutils.version import LooseVersion\n",
    "import warnings\n",
    "import tensorflow as tf\n",
    "\n",
    "# Check TensorFlow Version\n",
    "assert LooseVersion(tf.__version__) >= LooseVersion('1.0'), 'Please use TensorFlow version 1.0 or newer'\n",
    "print('TensorFlow Version: {}'.format(tf.__version__))\n",
    "\n",
    "# Check for a GPU\n",
    "if not tf.test.gpu_device_name():\n",
    "    warnings.warn('No GPU found. Please use a GPU to train your neural network.')\n",
    "else:\n",
    "    print('Default GPU Device: {}'.format(tf.test.gpu_device_name()))"
   ]
  },
  {
   "cell_type": "markdown",
   "metadata": {},
   "source": [
    "### Input\n",
    "Implement the `get_inputs()` function to create TF Placeholders for the Neural Network.  It should create the following placeholders:\n",
    "- Input text placeholder named \"input\" using the [TF Placeholder](https://www.tensorflow.org/api_docs/python/tf/placeholder) `name` parameter.\n",
    "- Targets placeholder\n",
    "- Learning Rate placeholder\n",
    "\n",
    "Return the placeholders in the following the tuple `(Input, Targets, LearingRate)`"
   ]
  },
  {
   "cell_type": "code",
   "execution_count": 16,
   "metadata": {
    "collapsed": false,
    "deletable": true,
    "editable": true
   },
   "outputs": [
    {
     "name": "stdout",
     "output_type": "stream",
     "text": [
      "Tests Passed\n"
     ]
    }
   ],
   "source": [
    "def get_inputs():\n",
    "    \"\"\"\n",
    "    Create TF Placeholders for input, targets, and learning rate.\n",
    "    :return: Tuple (input, targets, learning rate)\n",
    "    \"\"\"\n",
    "    \n",
    "    input = tf.placeholder(tf.int32, shape=[None, None], name='input')\n",
    "    targets = tf.placeholder(tf.int32, shape=[None, None])\n",
    "    rate = tf.placeholder(tf.float32)\n",
    "    \n",
    "    return input, targets, rate\n",
    "\n",
    "\n",
    "\"\"\"\n",
    "DON'T MODIFY ANYTHING IN THIS CELL THAT IS BELOW THIS LINE\n",
    "\"\"\"\n",
    "tests.test_get_inputs(get_inputs)"
   ]
  },
  {
   "cell_type": "markdown",
   "metadata": {
    "deletable": true,
    "editable": true
   },
   "source": [
    "### Build RNN Cell and Initialize\n",
    "Stack one or more [`BasicLSTMCells`](https://www.tensorflow.org/api_docs/python/tf/contrib/rnn/BasicLSTMCell) in a [`MultiRNNCell`](https://www.tensorflow.org/api_docs/python/tf/contrib/rnn/MultiRNNCell).\n",
    "- The Rnn size should be set using `rnn_size`\n",
    "- Initalize Cell State using the MultiRNNCell's [`zero_state()`](https://www.tensorflow.org/api_docs/python/tf/contrib/rnn/MultiRNNCell#zero_state) function\n",
    "    - Apply the name \"initial_state\" to the initial state using [`tf.identity()`](https://www.tensorflow.org/api_docs/python/tf/identity)\n",
    "\n",
    "Return the cell and initial state in the following tuple `(Cell, InitialState)`"
   ]
  },
  {
   "cell_type": "code",
   "execution_count": 17,
   "metadata": {
    "collapsed": false,
    "deletable": true,
    "editable": true
   },
   "outputs": [
    {
     "name": "stdout",
     "output_type": "stream",
     "text": [
      "Tests Passed\n"
     ]
    }
   ],
   "source": [
    "def get_init_cell(batch_size, rnn_size):\n",
    "    \"\"\"\n",
    "    Create an RNN Cell and initialize it.\n",
    "    :param batch_size: Size of batches\n",
    "    :param rnn_size: Size of RNNs\n",
    "    :return: Tuple (cell, initialize state)\n",
    "    \"\"\"\n",
    "    n_lstm = 2\n",
    "    \n",
    "    lstm = tf.contrib.rnn.BasicLSTMCell(rnn_size)\n",
    "    lstm = tf.contrib.rnn.MultiRNNCell([lstm] * n_lstm)\n",
    "    \n",
    "    initial_state = lstm.zero_state(batch_size, tf.float32)\n",
    "    initial_state = tf.identity(initial_state, name=\"initial_state\")\n",
    "    \n",
    "    return lstm, initial_state\n",
    "\n",
    "\n",
    "\"\"\"\n",
    "DON'T MODIFY ANYTHING IN THIS CELL THAT IS BELOW THIS LINE\n",
    "\"\"\"\n",
    "tests.test_get_init_cell(get_init_cell)"
   ]
  },
  {
   "cell_type": "markdown",
   "metadata": {
    "deletable": true,
    "editable": true
   },
   "source": [
    "### Word Embedding\n",
    "Apply embedding to `input_data` using TensorFlow.  Return the embedded sequence."
   ]
  },
  {
   "cell_type": "code",
   "execution_count": 18,
   "metadata": {
    "collapsed": false,
    "deletable": true,
    "editable": true
   },
   "outputs": [
    {
     "name": "stdout",
     "output_type": "stream",
     "text": [
      "Tests Passed\n"
     ]
    }
   ],
   "source": [
    "def get_embed(input_data, vocab_size, embed_dim):\n",
    "    \"\"\"\n",
    "    Create embedding for <input_data>.\n",
    "    :param input_data: TF placeholder for text input.\n",
    "    :param vocab_size: Number of words in vocabulary.\n",
    "    :param embed_dim: Number of embedding dimensions\n",
    "    :return: Embedded input.\n",
    "    \"\"\"\n",
    "    \n",
    "    embedding = tf.Variable(tf.random_uniform((vocab_size, embed_dim), -1, 1))\n",
    "    embed = tf.nn.embedding_lookup(embedding, input_data)\n",
    "    \n",
    "    return embed\n",
    "\n",
    "\n",
    "\"\"\"\n",
    "DON'T MODIFY ANYTHING IN THIS CELL THAT IS BELOW THIS LINE\n",
    "\"\"\"\n",
    "tests.test_get_embed(get_embed)"
   ]
  },
  {
   "cell_type": "markdown",
   "metadata": {
    "deletable": true,
    "editable": true
   },
   "source": [
    "### Build RNN\n",
    "You created a RNN Cell in the `get_init_cell()` function.  Time to use the cell to create a RNN.\n",
    "- Build the RNN using the [`tf.nn.dynamic_rnn()`](https://www.tensorflow.org/api_docs/python/tf/nn/dynamic_rnn)\n",
    " - Apply the name \"final_state\" to the final state using [`tf.identity()`](https://www.tensorflow.org/api_docs/python/tf/identity)\n",
    "\n",
    "Return the outputs and final_state state in the following tuple `(Outputs, FinalState)` "
   ]
  },
  {
   "cell_type": "code",
   "execution_count": 19,
   "metadata": {
    "collapsed": false,
    "deletable": true,
    "editable": true
   },
   "outputs": [
    {
     "name": "stdout",
     "output_type": "stream",
     "text": [
      "Tests Passed\n"
     ]
    }
   ],
   "source": [
    "def build_rnn(cell, inputs):\n",
    "    \"\"\"\n",
    "    Create a RNN using a RNN Cell\n",
    "    :param cell: RNN Cell\n",
    "    :param inputs: Input text data\n",
    "    :return: Tuple (Outputs, Final State)\n",
    "    \"\"\"\n",
    "    \n",
    "    outputs, final_state = tf.nn.dynamic_rnn(cell, inputs, dtype=tf.float32)\n",
    "    final_state = tf.identity(final_state, name=\"final_state\")\n",
    "    \n",
    "    return outputs, final_state\n",
    "\n",
    "\n",
    "\"\"\"\n",
    "DON'T MODIFY ANYTHING IN THIS CELL THAT IS BELOW THIS LINE\n",
    "\"\"\"\n",
    "tests.test_build_rnn(build_rnn)"
   ]
  },
  {
   "cell_type": "markdown",
   "metadata": {
    "deletable": true,
    "editable": true
   },
   "source": [
    "### Build the Neural Network\n",
    "Apply the functions you implemented above to:\n",
    "- Apply embedding to `input_data` using your `get_embed(input_data, vocab_size, embed_dim)` function.\n",
    "- Build RNN using `cell` and your `build_rnn(cell, inputs)` function.\n",
    "- Apply a fully connected layer with a linear activation and `vocab_size` as the number of outputs.\n",
    "\n",
    "Return the logits and final state in the following tuple (Logits, FinalState) "
   ]
  },
  {
   "cell_type": "code",
   "execution_count": 20,
   "metadata": {
    "collapsed": false,
    "deletable": true,
    "editable": true,
    "scrolled": false
   },
   "outputs": [
    {
     "name": "stdout",
     "output_type": "stream",
     "text": [
      "Tests Passed\n"
     ]
    }
   ],
   "source": [
    "def build_nn(cell, rnn_size, input_data, vocab_size):\n",
    "    \"\"\"\n",
    "    Build part of the neural network\n",
    "    :param cell: RNN cell\n",
    "    :param rnn_size: Size of rnns\n",
    "    :param input_data: Input data\n",
    "    :param vocab_size: Vocabulary size\n",
    "    :return: Tuple (Logits, FinalState)\n",
    "    \"\"\"\n",
    "    \n",
    "    embed_dim = 300\n",
    "    embed = get_embed(input_data, vocab_size, embed_dim)\n",
    "    \n",
    "    outputs, final_state = build_rnn(cell, embed)\n",
    "\n",
    "    logits = tf.contrib.layers.fully_connected(outputs, vocab_size, \n",
    "                                      weights_initializer=tf.truncated_normal_initializer(stddev=0.01), \n",
    "                                      biases_initializer=tf.zeros_initializer(), \n",
    "                                      activation_fn=None)\n",
    "    \n",
    "    return logits, final_state\n",
    "\n",
    "\n",
    "\"\"\"\n",
    "DON'T MODIFY ANYTHING IN THIS CELL THAT IS BELOW THIS LINE\n",
    "\"\"\"\n",
    "tests.test_build_nn(build_nn)"
   ]
  },
  {
   "cell_type": "markdown",
   "metadata": {
    "deletable": true,
    "editable": true
   },
   "source": [
    "### Batches\n",
    "Implement `get_batches` to create batches of input and targets using `int_text`.  The batches should be a Numpy array with the shape `(number of batches, 2, batch size, sequence length)`. Each batch contains two elements:\n",
    "- The first element is a single batch of **input** with the shape `[batch size, sequence length]`\n",
    "- The second element is a single batch of **targets** with the shape `[batch size, sequence length]`\n",
    "\n",
    "If you can't fill the last batch with enough data, drop the last batch.\n",
    "\n",
    "For exmple, `get_batches([1, 2, 3, 4, 5, 6, 7, 8, 9, 10, 11, 12, 13, 14, 15], 2, 3)` would return a Numpy array of the following:\n",
    "```\n",
    "[\n",
    "  # First Batch\n",
    "  [\n",
    "    # Batch of Input\n",
    "    [[ 1  2  3], [ 7  8  9]],\n",
    "    # Batch of targets\n",
    "    [[ 2  3  4], [ 8  9 10]]\n",
    "  ],\n",
    " \n",
    "  # Second Batch\n",
    "  [\n",
    "    # Batch of Input\n",
    "    [[ 4  5  6], [10 11 12]],\n",
    "    # Batch of targets\n",
    "    [[ 5  6  7], [11 12 13]]\n",
    "  ]\n",
    "]\n",
    "```"
   ]
  },
  {
   "cell_type": "code",
   "execution_count": 21,
   "metadata": {
    "collapsed": false,
    "deletable": true,
    "editable": true,
    "scrolled": false
   },
   "outputs": [
    {
     "name": "stdout",
     "output_type": "stream",
     "text": [
      "Tests Passed\n"
     ]
    }
   ],
   "source": [
    "import math\n",
    "\n",
    "def get_batches(int_text, batch_size, seq_length):\n",
    "    \"\"\"\n",
    "    Return batches of input and target\n",
    "    :param int_text: Text with the words replaced by their ids\n",
    "    :param batch_size: The size of batch\n",
    "    :param seq_length: The length of sequence\n",
    "    :return: Batches as a Numpy array\n",
    "    \"\"\"\n",
    "    elements_per_batch = batch_size * seq_length\n",
    "    full_batches = int(math.floor(len(int_text) / elements_per_batch))\n",
    "    \n",
    "    result = np.zeros((full_batches, 2, batch_size, seq_length))\n",
    "    \n",
    "    for i in range(batch_size):\n",
    "        for j in range(full_batches):\n",
    "            offset = (i * full_batches * seq_length) + (j * seq_length)\n",
    "            sequence = int_text[offset:offset+seq_length]\n",
    "            target_sequence = int_text[offset+1:offset+seq_length+1]\n",
    "            \n",
    "            result[j, 0, i] = sequence\n",
    "            result[j, 1, i] = target_sequence\n",
    "    \n",
    "    return result\n",
    "\n",
    "\"\"\"\n",
    "DON'T MODIFY ANYTHING IN THIS CELL THAT IS BELOW THIS LINE\n",
    "\"\"\"\n",
    "tests.test_get_batches(get_batches)"
   ]
  },
  {
   "cell_type": "markdown",
   "metadata": {
    "deletable": true,
    "editable": true
   },
   "source": [
    "## Neural Network Training\n",
    "### Hyperparameters\n",
    "Tune the following parameters:\n",
    "\n",
    "- Set `num_epochs` to the number of epochs.\n",
    "- Set `batch_size` to the batch size.\n",
    "- Set `rnn_size` to the size of the RNNs.\n",
    "- Set `seq_length` to the length of sequence.\n",
    "- Set `learning_rate` to the learning rate.\n",
    "- Set `show_every_n_batches` to the number of batches the neural network should print progress."
   ]
  },
  {
   "cell_type": "code",
   "execution_count": 22,
   "metadata": {
    "collapsed": false,
    "deletable": true,
    "editable": true
   },
   "outputs": [],
   "source": [
    "# Number of Epochs\n",
    "num_epochs = 200\n",
    "# Batch Size\n",
    "batch_size = 1024\n",
    "# RNN Size\n",
    "rnn_size = 256\n",
    "# Sequence Length\n",
    "seq_length = 15\n",
    "# Learning Rate\n",
    "learning_rate = 0.01\n",
    "# Show stats for every n number of batches\n",
    "show_every_n_batches = 20\n",
    "\n",
    "\"\"\"\n",
    "DON'T MODIFY ANYTHING IN THIS CELL THAT IS BELOW THIS LINE\n",
    "\"\"\"\n",
    "save_dir = './save'"
   ]
  },
  {
   "cell_type": "markdown",
   "metadata": {
    "deletable": true,
    "editable": true
   },
   "source": [
    "### Build the Graph\n",
    "Build the graph using the neural network you implemented."
   ]
  },
  {
   "cell_type": "code",
   "execution_count": 23,
   "metadata": {
    "collapsed": false,
    "deletable": true,
    "editable": true
   },
   "outputs": [],
   "source": [
    "\"\"\"\n",
    "DON'T MODIFY ANYTHING IN THIS CELL\n",
    "\"\"\"\n",
    "from tensorflow.contrib import seq2seq\n",
    "\n",
    "train_graph = tf.Graph()\n",
    "with train_graph.as_default():\n",
    "    vocab_size = len(int_to_vocab)\n",
    "    input_text, targets, lr = get_inputs()\n",
    "    input_data_shape = tf.shape(input_text)\n",
    "    cell, initial_state = get_init_cell(input_data_shape[0], rnn_size)\n",
    "    logits, final_state = build_nn(cell, rnn_size, input_text, vocab_size)\n",
    "\n",
    "    # Probabilities for generating words\n",
    "    probs = tf.nn.softmax(logits, name='probs')\n",
    "\n",
    "    # Loss function\n",
    "    cost = seq2seq.sequence_loss(\n",
    "        logits,\n",
    "        targets,\n",
    "        tf.ones([input_data_shape[0], input_data_shape[1]]))\n",
    "\n",
    "    # Optimizer\n",
    "    optimizer = tf.train.AdamOptimizer(lr)\n",
    "\n",
    "    # Gradient Clipping\n",
    "    gradients = optimizer.compute_gradients(cost)\n",
    "    capped_gradients = [(tf.clip_by_value(grad, -1., 1.), var) for grad, var in gradients]\n",
    "    train_op = optimizer.apply_gradients(capped_gradients)"
   ]
  },
  {
   "cell_type": "markdown",
   "metadata": {
    "deletable": true,
    "editable": true
   },
   "source": [
    "## Train\n",
    "Train the neural network on the preprocessed data.  If you have a hard time getting a good loss, check the [forms](https://discussions.udacity.com/) to see if anyone is having the same problem."
   ]
  },
  {
   "cell_type": "code",
   "execution_count": 24,
   "metadata": {
    "collapsed": false,
    "deletable": true,
    "editable": true,
    "scrolled": false
   },
   "outputs": [
    {
     "name": "stdout",
     "output_type": "stream",
     "text": [
      "Epoch   0 Batch    0/4   train_loss = 8.821\n",
      "Epoch   5 Batch    0/4   train_loss = 5.933\n",
      "Epoch  10 Batch    0/4   train_loss = 5.809\n",
      "Epoch  15 Batch    0/4   train_loss = 5.532\n",
      "Epoch  20 Batch    0/4   train_loss = 5.162\n",
      "Epoch  25 Batch    0/4   train_loss = 4.895\n",
      "Epoch  30 Batch    0/4   train_loss = 4.602\n",
      "Epoch  35 Batch    0/4   train_loss = 4.319\n",
      "Epoch  40 Batch    0/4   train_loss = 4.044\n",
      "Epoch  45 Batch    0/4   train_loss = 3.831\n",
      "Epoch  50 Batch    0/4   train_loss = 3.551\n",
      "Epoch  55 Batch    0/4   train_loss = 3.296\n",
      "Epoch  60 Batch    0/4   train_loss = 3.049\n",
      "Epoch  65 Batch    0/4   train_loss = 2.824\n",
      "Epoch  70 Batch    0/4   train_loss = 2.541\n",
      "Epoch  75 Batch    0/4   train_loss = 2.333\n",
      "Epoch  80 Batch    0/4   train_loss = 2.088\n",
      "Epoch  85 Batch    0/4   train_loss = 2.049\n",
      "Epoch  90 Batch    0/4   train_loss = 1.754\n",
      "Epoch  95 Batch    0/4   train_loss = 1.548\n",
      "Epoch 100 Batch    0/4   train_loss = 1.429\n",
      "Epoch 105 Batch    0/4   train_loss = 1.307\n",
      "Epoch 110 Batch    0/4   train_loss = 1.248\n",
      "Epoch 115 Batch    0/4   train_loss = 1.104\n",
      "Epoch 120 Batch    0/4   train_loss = 0.951\n",
      "Epoch 125 Batch    0/4   train_loss = 0.859\n",
      "Epoch 130 Batch    0/4   train_loss = 0.813\n",
      "Epoch 135 Batch    0/4   train_loss = 0.710\n",
      "Epoch 140 Batch    0/4   train_loss = 0.649\n",
      "Epoch 145 Batch    0/4   train_loss = 0.616\n",
      "Epoch 150 Batch    0/4   train_loss = 0.540\n",
      "Epoch 155 Batch    0/4   train_loss = 0.486\n",
      "Epoch 160 Batch    0/4   train_loss = 0.451\n",
      "Epoch 165 Batch    0/4   train_loss = 0.413\n",
      "Epoch 170 Batch    0/4   train_loss = 0.384\n",
      "Epoch 175 Batch    0/4   train_loss = 0.365\n",
      "Epoch 180 Batch    0/4   train_loss = 0.335\n",
      "Epoch 185 Batch    0/4   train_loss = 0.311\n",
      "Epoch 190 Batch    0/4   train_loss = 0.299\n",
      "Epoch 195 Batch    0/4   train_loss = 0.293\n",
      "Model Trained and Saved\n"
     ]
    }
   ],
   "source": [
    "\"\"\"\n",
    "DON'T MODIFY ANYTHING IN THIS CELL\n",
    "\"\"\"\n",
    "batches = get_batches(int_text, batch_size, seq_length)\n",
    "\n",
    "with tf.Session(graph=train_graph) as sess:\n",
    "    sess.run(tf.global_variables_initializer())\n",
    "\n",
    "    for epoch_i in range(num_epochs):\n",
    "        state = sess.run(initial_state, {input_text: batches[0][0]})\n",
    "\n",
    "        for batch_i, (x, y) in enumerate(batches):\n",
    "            feed = {\n",
    "                input_text: x,\n",
    "                targets: y,\n",
    "                initial_state: state,\n",
    "                lr: learning_rate}\n",
    "            train_loss, state, _ = sess.run([cost, final_state, train_op], feed)\n",
    "\n",
    "            # Show every <show_every_n_batches> batches\n",
    "            if (epoch_i * len(batches) + batch_i) % show_every_n_batches == 0:\n",
    "                print('Epoch {:>3} Batch {:>4}/{}   train_loss = {:.3f}'.format(\n",
    "                    epoch_i,\n",
    "                    batch_i,\n",
    "                    len(batches),\n",
    "                    train_loss))\n",
    "\n",
    "    # Save Model\n",
    "    saver = tf.train.Saver()\n",
    "    saver.save(sess, save_dir)\n",
    "    print('Model Trained and Saved')"
   ]
  },
  {
   "cell_type": "markdown",
   "metadata": {
    "deletable": true,
    "editable": true
   },
   "source": [
    "## Save Parameters\n",
    "Save `seq_length` and `save_dir` for generating a new TV script."
   ]
  },
  {
   "cell_type": "code",
   "execution_count": 25,
   "metadata": {
    "collapsed": false,
    "deletable": true,
    "editable": true
   },
   "outputs": [],
   "source": [
    "\"\"\"\n",
    "DON'T MODIFY ANYTHING IN THIS CELL\n",
    "\"\"\"\n",
    "# Save parameters for checkpoint\n",
    "helper.save_params((seq_length, save_dir))"
   ]
  },
  {
   "cell_type": "markdown",
   "metadata": {
    "deletable": true,
    "editable": true
   },
   "source": [
    "# Checkpoint"
   ]
  },
  {
   "cell_type": "code",
   "execution_count": 26,
   "metadata": {
    "collapsed": false,
    "deletable": true,
    "editable": true
   },
   "outputs": [],
   "source": [
    "\"\"\"\n",
    "DON'T MODIFY ANYTHING IN THIS CELL\n",
    "\"\"\"\n",
    "import tensorflow as tf\n",
    "import numpy as np\n",
    "import helper\n",
    "import problem_unittests as tests\n",
    "\n",
    "_, vocab_to_int, int_to_vocab, token_dict = helper.load_preprocess()\n",
    "seq_length, load_dir = helper.load_params()"
   ]
  },
  {
   "cell_type": "markdown",
   "metadata": {
    "deletable": true,
    "editable": true
   },
   "source": [
    "## Implement Generate Functions\n",
    "### Get Tensors\n",
    "Get tensors from `loaded_graph` using the function [`get_tensor_by_name()`](https://www.tensorflow.org/api_docs/python/tf/Graph#get_tensor_by_name).  Get the tensors using the following names:\n",
    "- \"input:0\"\n",
    "- \"initial_state:0\"\n",
    "- \"final_state:0\"\n",
    "- \"probs:0\"\n",
    "\n",
    "Return the tensors in the following tuple `(InputTensor, InitialStateTensor, FinalStateTensor, ProbsTensor)` "
   ]
  },
  {
   "cell_type": "code",
   "execution_count": 27,
   "metadata": {
    "collapsed": false,
    "deletable": true,
    "editable": true
   },
   "outputs": [
    {
     "name": "stdout",
     "output_type": "stream",
     "text": [
      "Tests Passed\n"
     ]
    }
   ],
   "source": [
    "def get_tensors(loaded_graph):\n",
    "    \"\"\"\n",
    "    Get input, initial state, final state, and probabilities tensor from <loaded_graph>\n",
    "    :param loaded_graph: TensorFlow graph loaded from file\n",
    "    :return: Tuple (InputTensor, InitialStateTensor, FinalStateTensor, ProbsTensor)\n",
    "    \"\"\"\n",
    "    input_tensor = loaded_graph.get_tensor_by_name(\"input:0\")\n",
    "    initial_state_tensor = loaded_graph.get_tensor_by_name(\"initial_state:0\")\n",
    "    final_state_tensor = loaded_graph.get_tensor_by_name(\"final_state:0\")\n",
    "    probs_tensor = loaded_graph.get_tensor_by_name(\"probs:0\")\n",
    "    \n",
    "    return input_tensor, initial_state_tensor, final_state_tensor, probs_tensor\n",
    "\n",
    "\n",
    "\"\"\"\n",
    "DON'T MODIFY ANYTHING IN THIS CELL THAT IS BELOW THIS LINE\n",
    "\"\"\"\n",
    "tests.test_get_tensors(get_tensors)"
   ]
  },
  {
   "cell_type": "markdown",
   "metadata": {
    "deletable": true,
    "editable": true
   },
   "source": [
    "### Choose Word\n",
    "Implement the `pick_word()` function to select the next word using `probabilities`."
   ]
  },
  {
   "cell_type": "code",
   "execution_count": 28,
   "metadata": {
    "collapsed": false,
    "deletable": true,
    "editable": true
   },
   "outputs": [
    {
     "name": "stdout",
     "output_type": "stream",
     "text": [
      "Tests Passed\n"
     ]
    }
   ],
   "source": [
    "def pick_word(probabilities, int_to_vocab):\n",
    "    \"\"\"\n",
    "    Pick the next word in the generated text\n",
    "    :param probabilities: Probabilites of the next word\n",
    "    :param int_to_vocab: Dictionary of word ids as the keys and words as the values\n",
    "    :return: String of the predicted word\n",
    "    \"\"\"\n",
    "    \n",
    "    return np.random.choice(list(int_to_vocab.values()),p=probabilities)\n",
    "\n",
    "\n",
    "\"\"\"\n",
    "DON'T MODIFY ANYTHING IN THIS CELL THAT IS BELOW THIS LINE\n",
    "\"\"\"\n",
    "tests.test_pick_word(pick_word)"
   ]
  },
  {
   "cell_type": "markdown",
   "metadata": {
    "deletable": true,
    "editable": true
   },
   "source": [
    "## Generate TV Script\n",
    "This will generate the TV script for you.  Set `gen_length` to the length of TV script you want to generate."
   ]
  },
  {
   "cell_type": "code",
   "execution_count": 29,
   "metadata": {
    "collapsed": false,
    "deletable": true,
    "editable": true,
    "scrolled": false
   },
   "outputs": [
    {
     "name": "stdout",
     "output_type": "stream",
     "text": [
      "moe_szyslak: excuse me, will you?(choked-up noise)\n",
      "marge_simpson: that poor man. here ya, in barney's car right! it's hope, it's not an old rummy are selling was a reliable girl / never put that on the springfield... you'll be the place.\n",
      "homer_simpson: hey, moe! a party to the prison and kill, they say that i got\" outside.\n",
      "homer_simpson:(smoothly) no, the fans, stop it!\n",
      "lenny_leonard: hey, sir. your home and the love of a dad.\n",
      "moe_szyslak: well, that's halfway there.\n",
      "\n",
      "\n",
      "moe_szyslak: you call me?\n",
      "moe_szyslak: homer, looks like my problem? the tip and look at my face.\n",
      "moe_szyslak: yeah, look? you're tryin' to make. and\" all right, homer. and that's just gonna have my money to believe this place doin' you?\n",
      "homer_simpson: if i know homer.\" i dump kids. no reason will the eyes we come in the glass of, she, waitin'?\n",
      "apu_nahasapeemapetilon:(pointedly\n"
     ]
    }
   ],
   "source": [
    "gen_length = 200\n",
    "# homer_simpson, moe_szyslak, or Barney_Gumble\n",
    "prime_word = 'moe_szyslak'\n",
    "\n",
    "\"\"\"\n",
    "DON'T MODIFY ANYTHING IN THIS CELL THAT IS BELOW THIS LINE\n",
    "\"\"\"\n",
    "loaded_graph = tf.Graph()\n",
    "with tf.Session(graph=loaded_graph) as sess:\n",
    "    # Load saved model\n",
    "    loader = tf.train.import_meta_graph(load_dir + '.meta')\n",
    "    loader.restore(sess, load_dir)\n",
    "\n",
    "    # Get Tensors from loaded model\n",
    "    input_text, initial_state, final_state, probs = get_tensors(loaded_graph)\n",
    "\n",
    "    # Sentences generation setup\n",
    "    gen_sentences = [prime_word + ':']\n",
    "    prev_state = sess.run(initial_state, {input_text: np.array([[1]])})\n",
    "\n",
    "    # Generate sentences\n",
    "    for n in range(gen_length):\n",
    "        # Dynamic Input\n",
    "        dyn_input = [[vocab_to_int[word] for word in gen_sentences[-seq_length:]]]\n",
    "        dyn_seq_length = len(dyn_input[0])\n",
    "\n",
    "        # Get Prediction\n",
    "        probabilities, prev_state = sess.run(\n",
    "            [probs, final_state],\n",
    "            {input_text: dyn_input, initial_state: prev_state})\n",
    "        \n",
    "        pred_word = pick_word(probabilities[dyn_seq_length-1], int_to_vocab)\n",
    "\n",
    "        gen_sentences.append(pred_word)\n",
    "    \n",
    "    # Remove tokens\n",
    "    tv_script = ' '.join(gen_sentences)\n",
    "    for key, token in token_dict.items():\n",
    "        ending = ' ' if key in ['\\n', '(', '\"'] else ''\n",
    "        tv_script = tv_script.replace(' ' + token.lower(), key)\n",
    "    tv_script = tv_script.replace('\\n ', '\\n')\n",
    "    tv_script = tv_script.replace('( ', '(')\n",
    "        \n",
    "    print(tv_script)"
   ]
  },
  {
   "cell_type": "markdown",
   "metadata": {
    "deletable": true,
    "editable": true
   },
   "source": [
    "# The TV Script is Nonsensical\n",
    "It's ok if the TV script doesn't make any sense.  We trained on less than a megabyte of text.  In order to get good results, you'll have to use a smaller vocabulary or get more data.  Luckly there's more data!  As we mentioned in the begging of this project, this is a subset of [another dataset](https://www.kaggle.com/wcukierski/the-simpsons-by-the-data).  We didn't have you train on all the data, because that would take too long.  However, you are free to train your neural network on all the data.  After you complete the project, of course.\n",
    "# Submitting This Project\n",
    "When submitting this project, make sure to run all the cells before saving the notebook. Save the notebook file as \"dlnd_tv_script_generation.ipynb\" and save it as a HTML file under \"File\" -> \"Download as\". Include the \"helper.py\" and \"problem_unittests.py\" files in your submission."
   ]
  }
 ],
 "metadata": {
  "kernelspec": {
   "display_name": "Python 3",
   "language": "python",
   "name": "python3"
  },
  "language_info": {
   "codemirror_mode": {
    "name": "ipython",
    "version": 3
   },
   "file_extension": ".py",
   "mimetype": "text/x-python",
   "name": "python",
   "nbconvert_exporter": "python",
   "pygments_lexer": "ipython3",
   "version": "3.6.0"
  }
 },
 "nbformat": 4,
 "nbformat_minor": 0
}
